{
 "cells": [
  {
   "cell_type": "markdown",
   "metadata": {},
   "source": [
    "# Глава 3\n",
    "## Знакомство с Python и SciPy\n",
    "Необязательно быть разработчиком на Python, чтобы начать использовать экосистему Python для построения моделей машинного обучения. Если вы уже программируете на одном и более языках, вам будет легко освоить Python.    Вы сможете применять уже имеющиеся у вас знания в новом языке, зная некоторые его свойства. В этом уроке:\n",
    "1. вы узнаете, как использовать синтаксис Python;\n",
    "2. получите достаточно информации о NumPy, Matplotlib и Pandas для того, чтобы читать и писать программы для машинного обучения на Python;\n",
    "3. получите базу, которая позволить лучше понять, как решаются задачи машинного обучения с помощью Python.\n",
    "\n",
    "Если вы уже немного знакомы с Python, эта глава просто поможет освежить знания. Начнем!\n",
    "### 3.1 Знакомство с Python\n",
    "Для начала работы с Python вам нужно знать ключевые моменты, касающихся синтаксиса языка, чтобы вы могли понимать и читать код, написанный на Python:\n",
    "\n",
    "- присваивание значений переменной;\n",
    "- контроль потока;\n",
    "- структуры данных;\n",
    "- функции данных.\n",
    "\n",
    "Мы рассмотрим все эти вопросы по-порядку, а также приведем работающие примеры кода, которые вы сможете использовать. И помните, в Python пробел имеет значение.\n",
    "\n",
    "#### 3.1.1\tПрисваивание значений переменной\n",
    "Для вас, как для программиста, присваивание значений переменной и его типы не должны быть в новинку.\n",
    "##### Строковой тип данных"
   ]
  },
  {
   "cell_type": "markdown",
   "metadata": {},
   "source": [
    "Обратите внимание на то, как можно выводить знаки в строку с помощью синтаксиса массивов.  При запуске этого примера кода на экран выводится:"
   ]
  },
  {
   "cell_type": "code",
   "execution_count": 2,
   "metadata": {},
   "outputs": [
    {
     "name": "stdout",
     "output_type": "stream",
     "text": [
      "h\n",
      "12\n",
      "hello  world\n"
     ]
    }
   ],
   "source": [
    "# Strings\n",
    "data  =  'hello  world'\n",
    "print(data[0])\n",
    "print(len(data))\n",
    "print(data)"
   ]
  },
  {
   "cell_type": "markdown",
   "metadata": {},
   "source": [
    "##### Числовой тип данных"
   ]
  },
  {
   "cell_type": "code",
   "execution_count": 3,
   "metadata": {},
   "outputs": [
    {
     "name": "stdout",
     "output_type": "stream",
     "text": [
      "123.1\n",
      "10\n"
     ]
    }
   ],
   "source": [
    "# Numbers\n",
    "value = 123.1\n",
    "print(value)\n",
    "value = 10\n",
    "print(value)"
   ]
  },
  {
   "cell_type": "markdown",
   "metadata": {},
   "source": [
    "##### Логический тип данных"
   ]
  },
  {
   "cell_type": "markdown",
   "metadata": {},
   "source": [
    "Присваивание нескольких значений переменной может быть также удобно для вывода на экран данных в простой и понятной форме."
   ]
  },
  {
   "cell_type": "code",
   "execution_count": 7,
   "metadata": {},
   "outputs": [
    {
     "name": "stdout",
     "output_type": "stream",
     "text": [
      "1 2 3\n"
     ]
    }
   ],
   "source": [
    "#   Multiple   Assignment\n",
    "a, b, c = 1, 2, 3\n",
    "print(a, b, c)"
   ]
  },
  {
   "cell_type": "markdown",
   "metadata": {},
   "source": [
    "##### Значение none"
   ]
  },
  {
   "cell_type": "code",
   "execution_count": 9,
   "metadata": {},
   "outputs": [
    {
     "name": "stdout",
     "output_type": "stream",
     "text": [
      "None\n"
     ]
    }
   ],
   "source": [
    "# значение none \n",
    "a = None\n",
    "print(a)"
   ]
  },
  {
   "cell_type": "markdown",
   "metadata": {},
   "source": [
    "#### 3.1.2 Контроль потока\n",
    "Необходимо знать три главных типа контроля потока: оператор ветвления If-Then-Else, оператор For-Loop и оператор While-Loop.\n",
    "##### Оператор ветвления If-Then-Else"
   ]
  },
  {
   "cell_type": "code",
   "execution_count": 11,
   "metadata": {},
   "outputs": [
    {
     "name": "stdout",
     "output_type": "stream",
     "text": [
      "That  is  fast\n"
     ]
    }
   ],
   "source": [
    "value = 99\n",
    "if value == 99:\n",
    "    print('That  is  fast')\n",
    "elif value > 200:\n",
    "    print ('That  is two fast')\n",
    "else:\n",
    "    print ('That is safe')"
   ]
  },
  {
   "cell_type": "markdown",
   "metadata": {},
   "source": [
    "##### Оператор For-Loop"
   ]
  },
  {
   "cell_type": "code",
   "execution_count": 12,
   "metadata": {},
   "outputs": [
    {
     "name": "stdout",
     "output_type": "stream",
     "text": [
      "0\n",
      "1\n",
      "2\n",
      "3\n",
      "4\n",
      "5\n",
      "6\n",
      "7\n",
      "8\n",
      "9\n"
     ]
    }
   ],
   "source": [
    "# For-Loop\n",
    "for  i  in  range(10):\n",
    "    print(i)"
   ]
  },
  {
   "cell_type": "markdown",
   "metadata": {},
   "source": [
    "##### Оператор While-Loop"
   ]
  },
  {
   "cell_type": "code",
   "execution_count": 13,
   "metadata": {},
   "outputs": [
    {
     "name": "stdout",
     "output_type": "stream",
     "text": [
      "0\n",
      "1\n",
      "2\n",
      "3\n",
      "4\n",
      "5\n",
      "6\n",
      "7\n",
      "8\n",
      "9\n"
     ]
    }
   ],
   "source": [
    "# While-Loop\n",
    "i = 0\n",
    "while i < 10:\n",
    "    print(i)\n",
    "    i += 1"
   ]
  },
  {
   "cell_type": "markdown",
   "metadata": {},
   "source": [
    "#### 3.1.3\tСтруктуры данных\n",
    "В Python есть три самых полезных и часто используемых вида структуры данных:  кортеж (tuple), список (list) и словарь (dictionary).\n",
    "##### Кортеж (Tuple)\n",
    "Кортеж – это данные, доступные только для чтения."
   ]
  },
  {
   "cell_type": "code",
   "execution_count": 14,
   "metadata": {},
   "outputs": [
    {
     "name": "stdout",
     "output_type": "stream",
     "text": [
      "(1, 2, 3)\n"
     ]
    }
   ],
   "source": [
    "a = (1, 2, 3)\n",
    "print(a)"
   ]
  },
  {
   "cell_type": "markdown",
   "metadata": {},
   "source": [
    "##### Список\n",
    "Чтобы задать списки, используются квадратные скобки или форма записи массива. Обратите внимание, что мы используем простой функционал, аналогичный printf, чтобы комбинировать строки и переменные при выводе на экран."
   ]
  },
  {
   "cell_type": "code",
   "execution_count": 1,
   "metadata": {},
   "outputs": [
    {
     "name": "stdout",
     "output_type": "stream",
     "text": [
      "Zeroth Value: 1\n",
      "List Length: 4\n",
      "1\n",
      "2\n",
      "3\n",
      "4\n"
     ]
    }
   ],
   "source": [
    "mylist = [1, 2, 3]\n",
    "print(\"Zeroth Value: %d\" % mylist[0])\n",
    "mylist.append(4)\n",
    "print(\"List Length: %d\" % len(mylist))\n",
    "for value in mylist:\n",
    "    print(value)"
   ]
  },
  {
   "cell_type": "markdown",
   "metadata": {},
   "source": [
    "Словари – это сопоставления имен со значениями, например, пары ключ-значение. Обратите внимание, что для записи словарей используются фигурные скобки и двоеточие."
   ]
  },
  {
   "cell_type": "code",
   "execution_count": 2,
   "metadata": {},
   "outputs": [
    {
     "name": "stdout",
     "output_type": "stream",
     "text": [
      "A value: 1\n",
      "A value: 11\n",
      "Keys: dict_keys(['a', 'b', 'c'])\n",
      "Values: dict_values([11, 2, 3])\n",
      "11\n",
      "2\n",
      "3\n"
     ]
    }
   ],
   "source": [
    "mydict = {'a': 1, 'b': 2, 'c': 3}\n",
    "print(\"A value: %d\" % mydict['a'])\n",
    "mydict['a'] = 11\n",
    "print(\"A value: %d\" % mydict['a'])\n",
    "print(\"Keys: %s\" % mydict.keys())\n",
    "print(\"Values: %s\" % mydict.values())\n",
    "for key in mydict.keys():\n",
    "    print(mydict[key])"
   ]
  },
  {
   "cell_type": "markdown",
   "metadata": {},
   "source": [
    "##### Функции\n",
    "Пробел в Python – это самый коварный момент.  Не забывайте оставлять новую пустую строку после введенного кода.  Пример кода ниже определяет новую функцию sum() для вычисления суммы двух значений и вызывает функцию, используя два аргумента."
   ]
  },
  {
   "cell_type": "code",
   "execution_count": 3,
   "metadata": {},
   "outputs": [
    {
     "name": "stdout",
     "output_type": "stream",
     "text": [
      "4\n"
     ]
    }
   ],
   "source": [
    "# Sum function\n",
    "def mysum(x, y):\n",
    "  return x + y\n",
    "\n",
    "# Test sum function\n",
    "result = mysum(1, 3)\n",
    "print(result)"
   ]
  },
  {
   "cell_type": "markdown",
   "metadata": {},
   "source": [
    "### 3.2\tЗнакомство с NumPy\n",
    "NumPy содержит основные структуры данных и операции для SciPy. Эти массивы (ndarrays) эффективно используются для определения и управления данными. Обратите внимание на то, как легко мы конвертировали лист Python в массив numpy.array().\n",
    "#### 3.2.1\tСоздание массива numpy.array"
   ]
  },
  {
   "cell_type": "code",
   "execution_count": 4,
   "metadata": {},
   "outputs": [
    {
     "name": "stdout",
     "output_type": "stream",
     "text": [
      "[1 2 3]\n",
      "(3,)\n"
     ]
    }
   ],
   "source": [
    "# define an array\n",
    "import numpy\n",
    "mylist = [1, 2, 3]\n",
    "myarray = numpy.array(mylist)\n",
    "print(myarray)\n",
    "print(myarray.shape)"
   ]
  },
  {
   "cell_type": "markdown",
   "metadata": {},
   "source": [
    "#### 3.2.2\tВывод данных\n",
    "Форма записи массива и объекты диапазонов могут использоваться для эффективного вывода данных в массиве numpy.array()."
   ]
  },
  {
   "cell_type": "code",
   "execution_count": 6,
   "metadata": {},
   "outputs": [
    {
     "name": "stdout",
     "output_type": "stream",
     "text": [
      "[[1 2 3]\n",
      " [3 4 5]]\n",
      "(2, 3)\n",
      "First row: [1 2 3]\n",
      "Last row: [3 4 5]\n",
      "Specific row and col: 3\n",
      "Whole col: [3 5]\n"
     ]
    }
   ],
   "source": [
    "# access values\n",
    "import numpy\n",
    "mylist = [[1, 2, 3], [3, 4, 5]]\n",
    "myarray = numpy.array(mylist)\n",
    "print(myarray)\n",
    "print(myarray.shape)\n",
    "print(\"First row: %s\" % myarray[0])\n",
    "print(\"Last row: %s\" % myarray[-1])\n",
    "print(\"Specific row and col: %s\" % myarray[0, 2])\n",
    "print(\"Whole col: %s\" % myarray[:, 2])"
   ]
  },
  {
   "cell_type": "markdown",
   "metadata": {},
   "source": [
    "#### 3.2.3\tАрифметические операции\n",
    "Массивы numpy.array() могут использоваться непосредственно для арифметических операций."
   ]
  },
  {
   "cell_type": "code",
   "execution_count": 8,
   "metadata": {},
   "outputs": [
    {
     "name": "stdout",
     "output_type": "stream",
     "text": [
      "Addition: [5 5 5]\n",
      "Multiplication: [6 6 6]\n"
     ]
    }
   ],
   "source": [
    "# arithmetic\n",
    "import numpy\n",
    "myarray1 = numpy.array([2, 2, 2])\n",
    "myarray2 = numpy.array([3, 3, 3])\n",
    "print(\"Addition: %s\" % (myarray1 + myarray2))\n",
    "print(\"Multiplication: %s\" % (myarray1 * myarray2))"
   ]
  },
  {
   "cell_type": "markdown",
   "metadata": {},
   "source": [
    "О массивах numpy.array() можно еще многое рассказать, но этих примеров достаточно для того, чтобы вы поняли, как они эффективны в работе с большим количеством числовых данных.   Чтобы узнать больше о NumPy API, обратитесь к Главе 24.\n",
    "### 3.3\tЗнакомство с Matplotlib \n",
    "Matplotlib можно использовать для создания графиков и таблиц. Эта библиотека обычно используется следующим образом:\n",
    "- вызовите функцию создания графика для каких-либо данных (например, функция .plot());\n",
    "- вызовите несколько функций, чтобы задать свойства графика (например, подписи и цвета).\n",
    "- отобразите график (например, функция .show()).\n",
    "\n",
    "#### 3.3.1\tЛинейный график\n",
    "Пример кода ниже создает простой линейный график на основе одномерных данных."
   ]
  },
  {
   "cell_type": "code",
   "execution_count": 11,
   "metadata": {},
   "outputs": [
    {
     "data": {
      "image/png": "[encoded data removed]",
      "text/plain": [
       "<Figure size 432x288 with 1 Axes>"
      ]
     },
     "metadata": {
      "needs_background": "light"
     },
     "output_type": "display_data"
    }
   ],
   "source": [
    "# basic line plot\n",
    "import matplotlib.pyplot as plt\n",
    "import numpy\n",
    "myarray = numpy.array([1, 2, 3])\n",
    "plt.plot(myarray)\n",
    "plt.xlabel('some x axis')\n",
    "plt.ylabel('some y axis')\n",
    "plt.show()"
   ]
  },
  {
   "cell_type": "markdown",
   "metadata": {},
   "source": [
    "#### 3.3.2\tДиаграмма рассеяния\n",
    "Ниже мы приводим простой пример создания диаграммы рассеяния на основе двумерных данных:"
   ]
  },
  {
   "cell_type": "code",
   "execution_count": 12,
   "metadata": {},
   "outputs": [
    {
     "data": {
      "image/png": "[encoded data removed]",
      "text/plain": [
       "<Figure size 432x288 with 1 Axes>"
      ]
     },
     "metadata": {
      "needs_background": "light"
     },
     "output_type": "display_data"
    }
   ],
   "source": [
    "# basic scatter plot\n",
    "import matplotlib.pyplot as plt\n",
    "import numpy\n",
    "x = numpy.array([1, 2, 3])\n",
    "y = numpy.array([2, 4, 6])\n",
    "plt.scatter(x,y)\n",
    "plt.xlabel('some x axis')\n",
    "plt.ylabel('some y axis')\n",
    "plt.show()"
   ]
  },
  {
   "cell_type": "markdown",
   "metadata": {},
   "source": [
    "### 3.4\tЗнакомство с Pandas\n",
    "Pandas предоставляет структуры данных и функционал для быстрого управления данными и их анализа.  Чтобы понять, как работает Pandas в машинном обучении, нужно разобраться, как работают структуры данных pandas.Series() и pandas.DataFrame().\n",
    "#### 3.4.1\tМассив данных pandas.series\n",
    "pandas.series – это одномерный массив, в котором можно подписать ряды и колонки."
   ]
  },
  {
   "cell_type": "code",
   "execution_count": 13,
   "metadata": {},
   "outputs": [
    {
     "name": "stdout",
     "output_type": "stream",
     "text": [
      "a    1\n",
      "b    2\n",
      "c    3\n",
      "dtype: int64\n"
     ]
    }
   ],
   "source": [
    "# series\n",
    "import numpy\n",
    "import pandas\n",
    "myarray = numpy.array([1, 2, 3])\n",
    "rownames = ['a', 'b', 'c']\n",
    "myseries = pandas.Series(myarray, index=rownames)\n",
    "print(myseries)"
   ]
  },
  {
   "cell_type": "markdown",
   "metadata": {},
   "source": [
    "Вы можете вывести данные в массиве pandas.Series() так же, как и в массиве numpy.array() или как в словаре, например:"
   ]
  },
  {
   "cell_type": "code",
   "execution_count": 14,
   "metadata": {},
   "outputs": [
    {
     "name": "stdout",
     "output_type": "stream",
     "text": [
      "1\n",
      "1\n"
     ]
    }
   ],
   "source": [
    "print(myseries[0])\n",
    "print(myseries['a'])"
   ]
  },
  {
   "cell_type": "markdown",
   "metadata": {},
   "source": [
    "#### 3.4.2\tМассив DataFrame\n",
    "pandas.DataFrame – это многомерный массив, в котором можно подписывать строки и колонки."
   ]
  },
  {
   "cell_type": "code",
   "execution_count": 15,
   "metadata": {},
   "outputs": [
    {
     "name": "stdout",
     "output_type": "stream",
     "text": [
      "   one  two  three\n",
      "a    1    2      3\n",
      "b    4    5      6\n"
     ]
    }
   ],
   "source": [
    "# dataframe\n",
    "import numpy\n",
    "import pandas\n",
    "myarray = numpy.array([[1, 2, 3], [4, 5, 6]])\n",
    "rownames = ['a', 'b']\n",
    "colnames = ['one', 'two', 'three']\n",
    "mydataframe = pandas.DataFrame(myarray, index=rownames, columns=colnames)\n",
    "print(mydataframe)"
   ]
  },
  {
   "cell_type": "markdown",
   "metadata": {},
   "source": [
    "Данные можно индексировать с помощью названий колонок."
   ]
  },
  {
   "cell_type": "code",
   "execution_count": 20,
   "metadata": {},
   "outputs": [
    {
     "name": "stdout",
     "output_type": "stream",
     "text": [
      "one column: a    1\n",
      "b    4\n",
      "Name: one, dtype: int64\n",
      "one column: a    1\n",
      "b    4\n",
      "Name: one, dtype: int64\n"
     ]
    }
   ],
   "source": [
    "print(\"one column: %s\" % mydataframe['one'])\n",
    "print(\"one column: %s\" % mydataframe.one)"
   ]
  },
  {
   "cell_type": "markdown",
   "metadata": {},
   "source": [
    "Pandas – это очень мощный инструмент для деления и перетасовки данных.  Обратитесь к главе 24, чтобы узнать больше о Pandas API.\n",
    "### 3.5\tВыводы\n",
    "Вы получили много базовых знаний в этом уроке, открыли для себя базовый синтаксис и примеры использования Python и трех основных библиотек Python для машинного обучения:\n",
    "- NumPy;\n",
    "- Matplotlib;\n",
    "- Pandas.\n",
    "\n",
    "#### 3.5.1\tЧто дальше\n",
    "Теперь вы знаете достаточно о синтаксисе и о том, как используется код на Python, чтобы читать и понимать его в машинном обучении и чтобы перейти к написанию своих собственных программ.  В следующем уроке вы узнаете, как быстро и легко загрузить стандартные датасеты для машинного обучения на Python."
   ]
  }
 ],
 "metadata": {
  "kernelspec": {
   "display_name": "Python 3",
   "language": "python",
   "name": "python3"
  },
  "language_info": {
   "codemirror_mode": {
    "name": "ipython",
    "version": 3
   },
   "file_extension": ".py",
   "mimetype": "text/x-python",
   "name": "python",
   "nbconvert_exporter": "python",
   "pygments_lexer": "ipython3",
   "version": "3.6.6"
  }
 },
 "nbformat": 4,
 "nbformat_minor": 2
}
