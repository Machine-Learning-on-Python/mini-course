{
 "cells": [
  {
   "cell_type": "markdown",
   "metadata": {},
   "source": [
    "# Как же ахуенно тут работать\n",
    "\n",
    "В этой среде мы пишем код и смотрим его результат:"
   ]
  },
  {
   "cell_type": "code",
   "execution_count": 1,
   "metadata": {
    "scrolled": true
   },
   "outputs": [
    {
     "name": "stdout",
     "output_type": "stream",
     "text": [
      "suck\n"
     ]
    }
   ],
   "source": [
    "print('suck')"
   ]
  },
  {
   "cell_type": "markdown",
   "metadata": {},
   "source": [
    "Попробуйте запустить сами, поставив курсор на ячейку и зажав shift + Enter"
   ]
  },
  {
   "cell_type": "code",
   "execution_count": null,
   "metadata": {},
   "outputs": [],
   "source": [
    "print('suck')"
   ]
  },
  {
   "cell_type": "markdown",
   "metadata": {},
   "source": [
    "А теперь сами напишите какой-нибудь код и запустите:"
   ]
  },
  {
   "cell_type": "code",
   "execution_count": null,
   "metadata": {},
   "outputs": [],
   "source": []
  },
  {
   "cell_type": "markdown",
   "metadata": {},
   "source": [
    "Можно ловко импортировать библиотеки и глянуть их версии:"
   ]
  },
  {
   "cell_type": "code",
   "execution_count": 4,
   "metadata": {},
   "outputs": [
    {
     "name": "stdout",
     "output_type": "stream",
     "text": [
      "1.1.0\n"
     ]
    }
   ],
   "source": [
    "# scipy  \n",
    "import scipy  \n",
    "print(scipy.__version__)"
   ]
  },
  {
   "cell_type": "markdown",
   "metadata": {},
   "source": [
    "Проверьте версии библиотек, необходимых для машинного обучения (запустите код):"
   ]
  },
  {
   "cell_type": "code",
   "execution_count": null,
   "metadata": {},
   "outputs": [],
   "source": [
    "# Python version  \n",
    "import sys  \n",
    "print('Python: {}'.format(sys.version))  \n",
    "# scipy  \n",
    "import scipy  \n",
    "print('scipy: {}'.format(scipy.__version__))  \n",
    "# numpy  \n",
    "import numpy  \n",
    "print('numpy: {}'.format(numpy.__version__))  \n",
    "# matplotlib  \n",
    "import matplotlib  \n",
    "print('matplotlib: {}'.format(matplotlib.__version__))   \n",
    "# pandas  \n",
    "import pandas  \n",
    "print('pandas: {}'.format(pandas.__version__))  \n",
    "# scikit-learn  \n",
    "import sklearn  \n",
    "print('sklearn: {}'.format(sklearn.__version__))"
   ]
  }
 ],
 "metadata": {
  "kernelspec": {
   "display_name": "Python 3",
   "language": "python",
   "name": "python3"
  },
  "language_info": {
   "codemirror_mode": {
    "name": "ipython",
    "version": 3
   },
   "file_extension": ".py",
   "mimetype": "text/x-python",
   "name": "python",
   "nbconvert_exporter": "python",
   "pygments_lexer": "ipython3",
   "version": "3.6.5"
  }
 },
 "nbformat": 4,
 "nbformat_minor": 2
}
