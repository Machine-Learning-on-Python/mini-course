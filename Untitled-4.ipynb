{
 "cells": [
  {
   "cell_type": "markdown",
   "metadata": {},
   "source": [
    "#### Пример 1. Иллюстрация возможностей iPython Notebook — идентификация галактик\n",
    "Среда iPython Notebook может использовать мощные библиотеки Python, которые охватывают все: от статистики и машинного обучения до обработки сигналов и изображений. В этом примере используется библиотека изображений изображения scikit-image для идентификации галактик в изображении неба, предоставленного космическим телескопом Хаббл, с использованием алгоритма обнаружения, известного как определитель Гессе.\n",
    "\n",
    "Импортируйте библиотеки matplotlib для построение графиков и иллюстраций, skimage для анализа изображений и interact для создания графического интерфейса:"
   ]
  },
  {
   "cell_type": "code",
   "execution_count": 11,
   "metadata": {},
   "outputs": [],
   "source": [
    "from matplotlib import pyplot as plt\n",
    "from skimage import data\n",
    "from skimage.feature import blob_doh\n",
    "from skimage.color import rgb2gray\n",
    "from ipywidgets import interact, fixed"
   ]
  },
  {
   "cell_type": "markdown",
   "metadata": {},
   "source": [
    "Выгружаем первый участок неба размером 500x500px из изображения, полученного телескопом Хабл:"
   ]
  },
  {
   "cell_type": "code",
   "execution_count": 12,
   "metadata": {},
   "outputs": [],
   "source": [
    "image = data.hubble_deep_field()[0:500, 0:500]\n",
    "image_gray = rgb2gray(image)"
   ]
  },
  {
   "cell_type": "markdown",
   "metadata": {},
   "source": [
    "Создаем функцию — изображение с размеченными галактиками:"
   ]
  },
  {
   "cell_type": "code",
   "execution_count": 13,
   "metadata": {},
   "outputs": [],
   "source": [
    "def plot_blobs(max_sigma=30, threshold=0.1, gray=False):\n",
    "    blobs = blob_doh(image_gray, max_sigma=max_sigma, threshold=threshold)\n",
    "    fig, ax = plt.subplots(figsize=(8,8))\n",
    "    ax.set_title('Галактики в созвездии Большой Медведицы')\n",
    "    if gray:\n",
    "        ax.imshow(image_gray, interpolation='nearest', cmap='gray_r')\n",
    "        circle_color = 'red'\n",
    "    else:\n",
    "        ax.imshow(image, interpolation='nearest')\n",
    "        circle_color = 'yellow'\n",
    "    for blob in blobs:\n",
    "        y, x, r = blob\n",
    "        c = plt.Circle((x, y), r, color=circle_color, linewidth=2, fill=False)\n",
    "        ax.add_patch(c)"
   ]
  },
  {
   "cell_type": "markdown",
   "metadata": {},
   "source": [
    "Создаем пользовательский интерфейс для регулировки настроек:"
   ]
  },
  {
   "cell_type": "code",
   "execution_count": 14,
   "metadata": {},
   "outputs": [
    {
     "data": {
      "application/vnd.jupyter.widget-view+json": {
       "model_id": "10287516a92c4cd3a652b4eb0f4d25e2",
       "version_major": 2,
       "version_minor": 0
      },
      "text/plain": [
       "interactive(children=(IntSlider(value=30, description='max_sigma', max=40, min=10, step=2), FloatSlider(value=…"
      ]
     },
     "metadata": {},
     "output_type": "display_data"
    }
   ],
   "source": [
    "interact(plot_blobs, max_sigma=(10, 40, 2), threshold=(0.005, 0.02, 0.001));"
   ]
  },
  {
   "cell_type": "markdown",
   "metadata": {},
   "source": [
    "Попробуйте посмотреть, как изменение настроек влияет на результат"
   ]
  },
  {
   "cell_type": "markdown",
   "metadata": {},
   "source": [
    "# Станьте практиком машинного обучения на Python за 14 дней\n",
    "## § 0. Введение\n",
    "Этот мини-курс позволит вам за 14 дней узнать, с чего начать изучение машинного обучения, как строить модели прогнозирования, используя машинное обучение и Python, как улучшать точность моделей.\n",
    "\n",
    "#### Целевая аудитория\n",
    "Прежде чем мы начнем, давайте условимся о некоторых вводных. В списке ниже вы найдёте описание целевой аудитории данного курса. Не паникуйте, если вы точно не соответствуете следующим пунктам, вам просто нужно будет освежить свои знания в той или иной области, чтобы не отставать.\n",
    "\n",
    "1. Разработчики, которые знают, как писать небольшой код. Это означает, что вам не сложно будет использовать новый язык программирования, например, Python, после освоения базового синтаксиса. Для этого не обязательно быть мастером кода, но легче освоить этот курс будет тем, кто знаком с С-подобными языками программирования.\n",
    "2. Разработчики, которые предварительно знакомы с машинным обучением. Это означает, что вы знаете основы машинного обучения, разбираетесь в кросс-валидации, некоторых алгоритмах и компромиссе между смещением и дисперсией. Не факт, что вы пишете докторскую по теме машинного обучения, но желательно, чтобы вы знали ключевые термины, или понимали, где найти необходимые объяснения.\n",
    "\n",
    "Этот мини-курс не является учебником программирования на Python или  учебником по компьютерному обучению. Он призван помочь разработчикам, которые поверхностно знакомы с машинным обучением, стать разработчиками, которые способны получать результаты на Python, одной из самых мощных и популярных платформ для машинного обучения.\n",
    "#### Обзор мини-курса \n",
    "Этот мини-курс состоит из 14 уроков. Вы можете выполнять один урок в день (рекомендуется) или выполнить все уроки за один день (хард-кор!). Это зависит только от времени, которым вы располагаете, и от вашего энтузиазма. Итак,  представляем вам 14 уроков, которые помогут начать работу с машинным обучением на Python:\n",
    "1. Загрузка и установка экосистем Python и SciPy\n",
    "2. Знакомство с Python, NumPy, Matplotlib и Pandas\n",
    "3. Загрузка данных из CSV\n",
    "4. Анализ данных методами описательной статистики\n",
    "5. Визуализация данных\n",
    "6. Предварительная обработка данных для моделирования\n",
    "7. Определение качества модели с помощью ресемплинга\n",
    "8. Показатели качества модели\n",
    "9. Выбор алгоритма машинного обучения\n",
    "10. Сравнение и выбор модели\n",
    "11. Повышение точности с помощью настройки алгоритма\n",
    "12. Объединение моделей для улучшения точности прогнозов\n",
    "13. Завершение и сохранение вашей модели\n",
    "14. Решение задачи «Ирисы Фишера»\n",
    "\n",
    "Каждый урок может занять как 60 секунд, так и 30 минут. Не торопитесь и занимайтесь в удобном для вас темпе. Уроки предполагают вашу готовность к самостоятельному поиску информации. Мы включили в текст подсказки, но часть обучения заключается в том, чтобы вы нашли, куда можно обратиться за помощью и где узнать о платформе Python. Наибольшее количество подсказок вы найдёте в первых уроках, что поможет вам приобрести уверенность в себе и инерцию. Не сдавайтесь!"
   ]
  },
  {
   "cell_type": "code",
   "execution_count": 1,
   "metadata": {
    "scrolled": true
   },
   "outputs": [
    {
     "name": "stdout",
     "output_type": "stream",
     "text": [
      "Hello\n"
     ]
    }
   ],
   "source": [
    "print('Hello')"
   ]
  },
  {
   "cell_type": "markdown",
   "metadata": {},
   "source": [
    "Попробуйте запустить сами, поставив курсор на ячейку и зажав shift + Enter"
   ]
  },
  {
   "cell_type": "code",
   "execution_count": 2,
   "metadata": {},
   "outputs": [
    {
     "name": "stdout",
     "output_type": "stream",
     "text": [
      "hello\n"
     ]
    }
   ],
   "source": [
    "print('hello')"
   ]
  },
  {
   "cell_type": "markdown",
   "metadata": {},
   "source": [
    "А теперь сами напишите какой-нибудь код и запустите:"
   ]
  },
  {
   "cell_type": "code",
   "execution_count": null,
   "metadata": {},
   "outputs": [],
   "source": []
  },
  {
   "cell_type": "markdown",
   "metadata": {},
   "source": [
    "Можно ловко импортировать библиотеки и глянуть их версии:"
   ]
  },
  {
   "cell_type": "code",
   "execution_count": 4,
   "metadata": {},
   "outputs": [
    {
     "name": "stdout",
     "output_type": "stream",
     "text": [
      "1.1.0\n"
     ]
    }
   ],
   "source": [
    "# scipy  \n",
    "import scipy  \n",
    "print(scipy.__version__)"
   ]
  },
  {
   "cell_type": "markdown",
   "metadata": {},
   "source": [
    "Проверьте версии библиотек, необходимых для машинного обучения (запустите код):"
   ]
  },
  {
   "cell_type": "code",
   "execution_count": null,
   "metadata": {},
   "outputs": [],
   "source": [
    "# Импортируйте библиотеку Sys и узнайте версию Python\n",
    "import sys  \n",
    "print('Python: {}'.format(sys.version))\n",
    "# Импортируйте scipy и узнайте ее версию\n",
    "import scipy  \n",
    "print('scipy: {}'.format(scipy.__version__))  \n",
    "# Импортируйте numpy и узнайте ее версию\n",
    "import numpy  \n",
    "print('numpy: {}'.format(numpy.__version__))  \n",
    "# matplotlib  \n",
    "import matplotlib  \n",
    "print('matplotlib: {}'.format(matplotlib.__version__))   \n",
    "# pandas  \n",
    "import pandas  \n",
    "print('pandas: {}'.format(pandas.__version__))  \n",
    "# scikit-learn  \n",
    "import sklearn  \n",
    "print('sklearn: {}'.format(sklearn.__version__))"
   ]
  },
  {
   "cell_type": "code",
   "execution_count": 2,
   "metadata": {},
   "outputs": [
    {
     "name": "stdout",
     "output_type": "stream",
     "text": [
      "Python: 3.6.5 |Anaconda, Inc.| (default, Apr 26 2018, 08:42:37) \n",
      "[GCC 4.2.1 Compatible Clang 4.0.1 (tags/RELEASE_401/final)]\n",
      "scipy: 1.1.0\n",
      "numpy: 1.14.3\n",
      "matplotlib: 2.2.2\n",
      "pandas: 0.23.0\n",
      "sklearn: 0.19.1\n"
     ]
    }
   ],
   "source": [
    "# Python version\n",
    "import sys\n",
    "print('Python: {}'.format(sys.version))\n",
    "# scipy\n",
    "import scipy\n",
    "print('scipy: {}'.format(scipy.__version__))\n",
    "# numpy\n",
    "import numpy\n",
    "print('numpy: {}'.format(numpy.__version__))\n",
    "# matplotlib\n",
    "import matplotlib\n",
    "print('matplotlib: {}'.format(matplotlib.__version__))\n",
    "# pandas\n",
    "import pandas\n",
    "print('pandas: {}'.format(pandas.__version__))\n",
    "# scikit-learn\n",
    "import sklearn\n",
    "print('sklearn: {}'.format(sklearn.__version__))"
   ]
  }
 ],
 "metadata": {
  "kernelspec": {
   "display_name": "Python 3",
   "language": "python",
   "name": "python3"
  },
  "language_info": {
   "codemirror_mode": {
    "name": "ipython",
    "version": 3
   },
   "file_extension": ".py",
   "mimetype": "text/x-python",
   "name": "python",
   "nbconvert_exporter": "python",
   "pygments_lexer": "ipython3",
   "version": "3.6.5"
  }
 },
 "nbformat": 4,
 "nbformat_minor": 2
}
